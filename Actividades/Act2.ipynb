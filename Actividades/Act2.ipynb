{
  "nbformat": 4,
  "nbformat_minor": 0,
  "metadata": {
    "colab": {
      "provenance": []
    },
    "kernelspec": {
      "name": "python3",
      "display_name": "Python 3"
    },
    "language_info": {
      "name": "python"
    }
  },
  "cells": [
    {
      "cell_type": "code",
      "execution_count": 1,
      "metadata": {
        "colab": {
          "base_uri": "https://localhost:8080/"
        },
        "id": "w4VyvgpaeJKe",
        "outputId": "00f49570-d648-425b-cff3-fab2c45b3e5b"
      },
      "outputs": [
        {
          "output_type": "stream",
          "name": "stdout",
          "text": [
            "¿Cuál es tu nombre? Brisa\n",
            "Hola, Brisa\n"
          ]
        }
      ],
      "source": [
        "#Brisa Marlene Mar Santiago 2127823 IMTC N3\n",
        "#¿cual es tu nombre?\n",
        "n = input(\"¿Cuál es tu nombre? \")\n",
        "\n",
        "if n == \"Ana\" or n == \"ana\" or n == \"Juan\" or n == \"juan\" or n == \"Pedro\" or n == \"pedro\":\n",
        "    print(\"No puedo saludar.\")\n",
        "else:\n",
        "    print(\"Hola, \" + n )\n",
        "\n",
        "\n"
      ]
    },
    {
      "cell_type": "code",
      "source": [
        "  #invertir lista\n",
        "  num = input(\"Elemetos de la lista separado en comas \")\n",
        "  lista = num.split(\",\")\n",
        "  lista.reverse()\n",
        "  print(\"La lista invertida es:\", lista)"
      ],
      "metadata": {
        "colab": {
          "base_uri": "https://localhost:8080/"
        },
        "id": "lC5tr6v5fR-H",
        "outputId": "79e19dca-eb02-4ba4-a1dc-cf44e6fb04db"
      },
      "execution_count": 4,
      "outputs": [
        {
          "output_type": "stream",
          "name": "stdout",
          "text": [
            "Elemetos de la lista separado en comas uno, dos, tres, cuatro\n",
            "La lista invertida es: [' cuatro', ' tres', ' dos', 'uno']\n"
          ]
        }
      ]
    },
    {
      "cell_type": "code",
      "source": [
        "#serie de Fibonacci\n",
        "CN = int(input(\"Ingrese la cantidad de números para generar: \"))\n",
        "x = 0\n",
        "y = 1\n",
        "print(\"Los primeros\", CN, \"números de la serie de Fibonacci son:\")\n",
        "for i in range(CN):\n",
        "    print(y)\n",
        "    z = x + y\n",
        "    x = y\n",
        "    y = z"
      ],
      "metadata": {
        "colab": {
          "base_uri": "https://localhost:8080/"
        },
        "id": "P8oaUnLygLVz",
        "outputId": "66182ada-088a-49df-aa8a-86e2e7ca921a"
      },
      "execution_count": 5,
      "outputs": [
        {
          "output_type": "stream",
          "name": "stdout",
          "text": [
            "Ingrese la cantidad de números para generar: 5\n",
            "Los primeros 5 números de la serie de Fibonacci son:\n",
            "1\n",
            "1\n",
            "2\n",
            "3\n",
            "5\n"
          ]
        }
      ]
    },
    {
      "cell_type": "code",
      "source": [
        "#Juego \"Adivina el numero\"\n",
        "import random\n",
        "\n",
        "# Explicación del juego\n",
        "print(\"Bienvenido a 'Adivina el número'!\")\n",
        "print(\"El objetivo del juego es adivinar un número secreto.\")\n",
        "print(\"Después de cada intento, recibirás una retroalimentación para ayudarte.\")\n",
        "print(\"¡Vamos a empezar!\")\n",
        "\n",
        "# Generar un número secreto aleatorio entre 1 y 100\n",
        "numero_secreto = random.randint(1, 100)\n",
        "\n",
        "# Solicitar la entrada del jugador\n",
        "intentos = 0\n",
        "adivinado = False\n",
        "\n",
        "# Bucle principal del juego\n",
        "while not adivinado:\n",
        "    suposicion = input(\"Ingresa tu suposición (entre 1 y 100): \")\n",
        "\n",
        "    # Validación de entrada\n",
        "    if not suposicion.isdigit():\n",
        "        print(\"Por favor, ingresa un número válido.\")\n",
        "        continue\n",
        "\n",
        "    suposicion = int(suposicion)\n",
        "\n",
        "    # Validación de rango\n",
        "    if suposicion < 1 or suposicion > 100:\n",
        "        print(\"El número debe estar en el rango de 1 a 100.\")\n",
        "        continue\n",
        "    intentos += 1\n",
        "\n",
        "    # Comparación y retroalimentación\n",
        "    if suposicion < numero_secreto:\n",
        "        print(\"Demasiado bajo. ¡Intenta nuevamente!\")\n",
        "    elif suposicion > numero_secreto:\n",
        "        print(\"Demasiado alto. ¡Intenta nuevamente!\")\n",
        "    else:\n",
        "        print(f\"¡Felicidades! ¡Adivinaste el número en {intentos} intentos!\")\n",
        "        adivinado = True\n",
        "\n",
        "    # Contador de intentos\n",
        "    print(f\"Intentos realizados: {intentos}\")\n",
        "\n",
        "# Finalización del juego\n",
        "\n",
        "print(f\"¡Felicidades! ¡Adivinaste el número en {intentos} intentos!\")\n",
        "adivinado = True\n",
        "\n",
        "jugar_nuevamente = input(\"¿Deseas jugar nuevamente? (sí/no): \")\n",
        "\n",
        "if jugar_nuevamente.lower() == 'sí':\n",
        "    numero_secreto = random.randint(1, 100)\n",
        "    intentos = 0\n",
        "    adivinado = False\n",
        "    print(\"¡Genial! ¡Vamos a jugar nuevamente!\")\n",
        "else:\n",
        "    print(\"Gracias por jugar. ¡Hasta la próxima!\")"
      ],
      "metadata": {
        "colab": {
          "base_uri": "https://localhost:8080/"
        },
        "id": "GhYzTGIKiyoN",
        "outputId": "5e704928-afac-432b-a583-5d55825b8388"
      },
      "execution_count": 22,
      "outputs": [
        {
          "output_type": "stream",
          "name": "stdout",
          "text": [
            "Bienvenido a 'Adivina el número'!\n",
            "El objetivo del juego es adivinar un número secreto.\n",
            "Después de cada intento, recibirás una retroalimentación para ayudarte.\n",
            "¡Vamos a empezar!\n",
            "Ingresa tu suposición (entre 1 y 100): 60\n",
            "Demasiado bajo. ¡Intenta nuevamente!\n",
            "Intentos realizados: 1\n",
            "Ingresa tu suposición (entre 1 y 100): 90\n",
            "Demasiado bajo. ¡Intenta nuevamente!\n",
            "Intentos realizados: 2\n",
            "Ingresa tu suposición (entre 1 y 100): 99\n",
            "Demasiado alto. ¡Intenta nuevamente!\n",
            "Intentos realizados: 3\n",
            "Ingresa tu suposición (entre 1 y 100): 95\n",
            "Demasiado bajo. ¡Intenta nuevamente!\n",
            "Intentos realizados: 4\n",
            "Ingresa tu suposición (entre 1 y 100): 97\n",
            "Demasiado alto. ¡Intenta nuevamente!\n",
            "Intentos realizados: 5\n",
            "Ingresa tu suposición (entre 1 y 100): 96\n",
            "¡Felicidades! ¡Adivinaste el número en 6 intentos!\n",
            "Intentos realizados: 6\n",
            "¡Felicidades! ¡Adivinaste el número en 6 intentos!\n",
            "¿Deseas jugar nuevamente? (sí/no): no\n",
            "Gracias por jugar. ¡Hasta la próxima!\n"
          ]
        }
      ]
    },
    {
      "cell_type": "code",
      "source": [
        "#numeros primos\n",
        "def es_primo(num):\n",
        "    if num < 2:\n",
        "        return False\n",
        "    for i in range(2, int(num ** 0.5) + 1):\n",
        "        if num % i == 0:\n",
        "            return False\n",
        "    return True\n",
        "\n",
        "inicio = int(input(\"Ingresa el número inicial del rango: \"))\n",
        "fin = int(input(\"Ingresa el número final del rango: \"))\n",
        "\n",
        "print(f\"Números primos en el rango de {inicio} a {fin}:\")\n",
        "for num in range(inicio, fin + 1):\n",
        "    if es_primo(num):\n",
        "        print(num)"
      ],
      "metadata": {
        "colab": {
          "base_uri": "https://localhost:8080/"
        },
        "id": "6FkW0tT-lRjz",
        "outputId": "02cc80b5-d5ea-4c2f-dcee-066c633b7f09"
      },
      "execution_count": 19,
      "outputs": [
        {
          "output_type": "stream",
          "name": "stdout",
          "text": [
            "Ingresa el número inicial del rango: 4\n",
            "Ingresa el número final del rango: 23\n",
            "Números primos en el rango de 4 a 23:\n",
            "5\n",
            "7\n",
            "11\n",
            "13\n",
            "17\n",
            "19\n",
            "23\n"
          ]
        }
      ]
    },
    {
      "cell_type": "code",
      "source": [
        "def suma(a, b):\n",
        "    return a + b\n",
        "\n",
        "def resta(a, b):\n",
        "    return a - b\n",
        "\n",
        "def multiplicacion(a, b):\n",
        "    return a * b\n",
        "\n",
        "def division(a, b):\n",
        "    if b != 0:\n",
        "        return a / b\n",
        "    else:\n",
        "        return \"Error: división por cero\"\n",
        "\n",
        "num1 = float(input(\"Ingrese el primer número: \"))\n",
        "num2 = float(input(\"Ingrese el segundo número: \"))\n",
        "\n",
        "print(\"Seleccione la operación:\")\n",
        "print(\"1. Suma\")\n",
        "print(\"2. Resta\")\n",
        "print(\"3. Multiplicación\")\n",
        "print(\"4. División\")\n",
        "\n",
        "opcion = input(\"Ingrese la opción (1/2/3/4): \")\n",
        "\n",
        "if opcion == '1':\n",
        "    print(\"Resultado:\", suma(num1, num2))\n",
        "elif opcion == '2':\n",
        "    print(\"Resultado:\", resta(num1, num2))\n",
        "elif opcion == '3':\n",
        "    print(\"Resultado:\", multiplicacion(num1, num2))\n",
        "elif opcion == '4':\n",
        "    print(\"Resultado:\", division(num1, num2))\n",
        "else:\n",
        "    print(\"Opción no válida\")\n",
        "\n",
        ""
      ],
      "metadata": {
        "colab": {
          "base_uri": "https://localhost:8080/"
        },
        "id": "it65nwp6oL3s",
        "outputId": "ce6b8326-5a84-45a8-d950-acf21080e38c"
      },
      "execution_count": 23,
      "outputs": [
        {
          "output_type": "stream",
          "name": "stdout",
          "text": [
            "Ingrese el primer número: 34\n",
            "Ingrese el segundo número: 22\n",
            "Seleccione la operación:\n",
            "1. Suma\n",
            "2. Resta\n",
            "3. Multiplicación\n",
            "4. División\n",
            "Ingrese la opción (1/2/3/4): 2\n",
            "Resultado: 12.0\n"
          ]
        }
      ]
    }
  ]
}